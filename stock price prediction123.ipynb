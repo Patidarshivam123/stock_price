{
 "cells": [
  {
   "cell_type": "markdown",
   "id": "2240e497",
   "metadata": {},
   "source": [
    "# Import Libraries \n"
   ]
  },
  {
   "cell_type": "code",
   "execution_count": 11,
   "id": "c95011ae",
   "metadata": {},
   "outputs": [
    {
     "name": "stdout",
     "output_type": "stream",
     "text": [
      "Requirement already satisfied: tensorflow in c:\\users\\patid\\anaconda3\\lib\\site-packages (2.9.1)\n",
      "Requirement already satisfied: numpy>=1.20 in c:\\users\\patid\\anaconda3\\lib\\site-packages (from tensorflow) (1.21.5)\n",
      "Requirement already satisfied: gast<=0.4.0,>=0.2.1 in c:\\users\\patid\\anaconda3\\lib\\site-packages (from tensorflow) (0.4.0)\n",
      "Requirement already satisfied: tensorboard<2.10,>=2.9 in c:\\users\\patid\\anaconda3\\lib\\site-packages (from tensorflow) (2.9.1)\n",
      "Requirement already satisfied: setuptools in c:\\users\\patid\\anaconda3\\lib\\site-packages (from tensorflow) (61.2.0)\n",
      "Requirement already satisfied: six>=1.12.0 in c:\\users\\patid\\anaconda3\\lib\\site-packages (from tensorflow) (1.16.0)\n",
      "Requirement already satisfied: flatbuffers<2,>=1.12 in c:\\users\\patid\\anaconda3\\lib\\site-packages (from tensorflow) (1.12)\n",
      "Requirement already satisfied: wrapt>=1.11.0 in c:\\users\\patid\\anaconda3\\lib\\site-packages (from tensorflow) (1.12.1)\n",
      "Requirement already satisfied: packaging in c:\\users\\patid\\anaconda3\\lib\\site-packages (from tensorflow) (21.3)\n",
      "Requirement already satisfied: typing-extensions>=3.6.6 in c:\\users\\patid\\anaconda3\\lib\\site-packages (from tensorflow) (4.1.1)\n",
      "Requirement already satisfied: google-pasta>=0.1.1 in c:\\users\\patid\\anaconda3\\lib\\site-packages (from tensorflow) (0.2.0)\n",
      "Requirement already satisfied: termcolor>=1.1.0 in c:\\users\\patid\\anaconda3\\lib\\site-packages (from tensorflow) (1.1.0)\n",
      "Requirement already satisfied: absl-py>=1.0.0 in c:\\users\\patid\\anaconda3\\lib\\site-packages (from tensorflow) (1.2.0)\n",
      "Requirement already satisfied: protobuf<3.20,>=3.9.2 in c:\\users\\patid\\anaconda3\\lib\\site-packages (from tensorflow) (3.19.1)\n",
      "Requirement already satisfied: opt-einsum>=2.3.2 in c:\\users\\patid\\anaconda3\\lib\\site-packages (from tensorflow) (3.3.0)\n",
      "Requirement already satisfied: keras-preprocessing>=1.1.1 in c:\\users\\patid\\anaconda3\\lib\\site-packages (from tensorflow) (1.1.2)\n",
      "Requirement already satisfied: tensorflow-io-gcs-filesystem>=0.23.1 in c:\\users\\patid\\anaconda3\\lib\\site-packages (from tensorflow) (0.26.0)\n",
      "Requirement already satisfied: h5py>=2.9.0 in c:\\users\\patid\\anaconda3\\lib\\site-packages (from tensorflow) (3.6.0)\n",
      "Requirement already satisfied: tensorflow-estimator<2.10.0,>=2.9.0rc0 in c:\\users\\patid\\anaconda3\\lib\\site-packages (from tensorflow) (2.9.0)\n",
      "Requirement already satisfied: libclang>=13.0.0 in c:\\users\\patid\\anaconda3\\lib\\site-packages (from tensorflow) (14.0.6)\n",
      "Requirement already satisfied: astunparse>=1.6.0 in c:\\users\\patid\\anaconda3\\lib\\site-packages (from tensorflow) (1.6.3)\n",
      "Requirement already satisfied: grpcio<2.0,>=1.24.3 in c:\\users\\patid\\anaconda3\\lib\\site-packages (from tensorflow) (1.42.0)\n",
      "Requirement already satisfied: keras<2.10.0,>=2.9.0rc0 in c:\\users\\patid\\anaconda3\\lib\\site-packages (from tensorflow) (2.9.0)\n",
      "Requirement already satisfied: wheel<1.0,>=0.23.0 in c:\\users\\patid\\anaconda3\\lib\\site-packages (from astunparse>=1.6.0->tensorflow) (0.37.1)\n",
      "Requirement already satisfied: requests<3,>=2.21.0 in c:\\users\\patid\\anaconda3\\lib\\site-packages (from tensorboard<2.10,>=2.9->tensorflow) (2.27.1)\n",
      "Requirement already satisfied: google-auth<3,>=1.6.3 in c:\\users\\patid\\anaconda3\\lib\\site-packages (from tensorboard<2.10,>=2.9->tensorflow) (1.33.0)\n",
      "Requirement already satisfied: tensorboard-plugin-wit>=1.6.0 in c:\\users\\patid\\anaconda3\\lib\\site-packages (from tensorboard<2.10,>=2.9->tensorflow) (1.8.1)\n",
      "Requirement already satisfied: werkzeug>=1.0.1 in c:\\users\\patid\\anaconda3\\lib\\site-packages (from tensorboard<2.10,>=2.9->tensorflow) (2.0.3)\n",
      "Requirement already satisfied: google-auth-oauthlib<0.5,>=0.4.1 in c:\\users\\patid\\anaconda3\\lib\\site-packages (from tensorboard<2.10,>=2.9->tensorflow) (0.4.6)\n",
      "Requirement already satisfied: markdown>=2.6.8 in c:\\users\\patid\\anaconda3\\lib\\site-packages (from tensorboard<2.10,>=2.9->tensorflow) (3.3.4)\n",
      "Requirement already satisfied: tensorboard-data-server<0.7.0,>=0.6.0 in c:\\users\\patid\\anaconda3\\lib\\site-packages (from tensorboard<2.10,>=2.9->tensorflow) (0.6.1)\n",
      "Requirement already satisfied: cachetools<5.0,>=2.0.0 in c:\\users\\patid\\anaconda3\\lib\\site-packages (from google-auth<3,>=1.6.3->tensorboard<2.10,>=2.9->tensorflow) (4.2.2)\n",
      "Requirement already satisfied: rsa<5,>=3.1.4 in c:\\users\\patid\\anaconda3\\lib\\site-packages (from google-auth<3,>=1.6.3->tensorboard<2.10,>=2.9->tensorflow) (4.7.2)\n",
      "Requirement already satisfied: pyasn1-modules>=0.2.1 in c:\\users\\patid\\anaconda3\\lib\\site-packages (from google-auth<3,>=1.6.3->tensorboard<2.10,>=2.9->tensorflow) (0.2.8)\n",
      "Requirement already satisfied: requests-oauthlib>=0.7.0 in c:\\users\\patid\\anaconda3\\lib\\site-packages (from google-auth-oauthlib<0.5,>=0.4.1->tensorboard<2.10,>=2.9->tensorflow) (1.3.1)\n",
      "Requirement already satisfied: pyasn1<0.5.0,>=0.4.6 in c:\\users\\patid\\anaconda3\\lib\\site-packages (from pyasn1-modules>=0.2.1->google-auth<3,>=1.6.3->tensorboard<2.10,>=2.9->tensorflow) (0.4.8)\n",
      "Requirement already satisfied: idna<4,>=2.5 in c:\\users\\patid\\anaconda3\\lib\\site-packages (from requests<3,>=2.21.0->tensorboard<2.10,>=2.9->tensorflow) (3.3)\n",
      "Requirement already satisfied: charset-normalizer~=2.0.0 in c:\\users\\patid\\anaconda3\\lib\\site-packages (from requests<3,>=2.21.0->tensorboard<2.10,>=2.9->tensorflow) (2.0.4)\n",
      "Requirement already satisfied: certifi>=2017.4.17 in c:\\users\\patid\\anaconda3\\lib\\site-packages (from requests<3,>=2.21.0->tensorboard<2.10,>=2.9->tensorflow) (2021.10.8)\n",
      "Requirement already satisfied: urllib3<1.27,>=1.21.1 in c:\\users\\patid\\anaconda3\\lib\\site-packages (from requests<3,>=2.21.0->tensorboard<2.10,>=2.9->tensorflow) (1.26.9)\n",
      "Requirement already satisfied: oauthlib>=3.0.0 in c:\\users\\patid\\anaconda3\\lib\\site-packages (from requests-oauthlib>=0.7.0->google-auth-oauthlib<0.5,>=0.4.1->tensorboard<2.10,>=2.9->tensorflow) (3.2.0)\n",
      "Requirement already satisfied: pyparsing!=3.0.5,>=2.0.2 in c:\\users\\patid\\anaconda3\\lib\\site-packages (from packaging->tensorflow) (3.0.4)\n"
     ]
    }
   ],
   "source": [
    "!pip install tensorflow"
   ]
  },
  {
   "cell_type": "code",
   "execution_count": 12,
   "id": "45d8bf87",
   "metadata": {},
   "outputs": [],
   "source": [
    "import pandas as pd\n",
    "import numpy as np\n",
    "import seaborn as sns\n",
    "import matplotlib.pyplot as plt\n",
    "import math\n",
    "from sklearn.preprocessing import MinMaxScaler\n",
    "from keras.models import Sequential\n",
    "from keras.layers import Dense,LSTM\n",
    "plt.style.use('fivethirtyeight')"
   ]
  },
  {
   "cell_type": "code",
   "execution_count": 13,
   "id": "d1362edd",
   "metadata": {},
   "outputs": [
    {
     "data": {
      "text/html": [
       "<div>\n",
       "<style scoped>\n",
       "    .dataframe tbody tr th:only-of-type {\n",
       "        vertical-align: middle;\n",
       "    }\n",
       "\n",
       "    .dataframe tbody tr th {\n",
       "        vertical-align: top;\n",
       "    }\n",
       "\n",
       "    .dataframe thead th {\n",
       "        text-align: right;\n",
       "    }\n",
       "</style>\n",
       "<table border=\"1\" class=\"dataframe\">\n",
       "  <thead>\n",
       "    <tr style=\"text-align: right;\">\n",
       "      <th></th>\n",
       "      <th>Open</th>\n",
       "      <th>High</th>\n",
       "      <th>Low</th>\n",
       "      <th>Close</th>\n",
       "      <th>Adj Close</th>\n",
       "      <th>Volume</th>\n",
       "    </tr>\n",
       "    <tr>\n",
       "      <th>Date</th>\n",
       "      <th></th>\n",
       "      <th></th>\n",
       "      <th></th>\n",
       "      <th></th>\n",
       "      <th></th>\n",
       "      <th></th>\n",
       "    </tr>\n",
       "  </thead>\n",
       "  <tbody>\n",
       "    <tr>\n",
       "      <th>2018-02-05</th>\n",
       "      <td>262.000000</td>\n",
       "      <td>267.899994</td>\n",
       "      <td>250.029999</td>\n",
       "      <td>254.259995</td>\n",
       "      <td>254.259995</td>\n",
       "      <td>11896100.0</td>\n",
       "    </tr>\n",
       "    <tr>\n",
       "      <th>2018-02-06</th>\n",
       "      <td>247.699997</td>\n",
       "      <td>266.700012</td>\n",
       "      <td>245.000000</td>\n",
       "      <td>265.720001</td>\n",
       "      <td>265.720001</td>\n",
       "      <td>12595800.0</td>\n",
       "    </tr>\n",
       "    <tr>\n",
       "      <th>2018-02-07</th>\n",
       "      <td>266.579987</td>\n",
       "      <td>272.450012</td>\n",
       "      <td>264.329987</td>\n",
       "      <td>264.559998</td>\n",
       "      <td>264.559998</td>\n",
       "      <td>8981500.0</td>\n",
       "    </tr>\n",
       "    <tr>\n",
       "      <th>2018-02-08</th>\n",
       "      <td>267.079987</td>\n",
       "      <td>267.619995</td>\n",
       "      <td>250.000000</td>\n",
       "      <td>250.100006</td>\n",
       "      <td>250.100006</td>\n",
       "      <td>9306700.0</td>\n",
       "    </tr>\n",
       "    <tr>\n",
       "      <th>2018-02-09</th>\n",
       "      <td>253.850006</td>\n",
       "      <td>255.800003</td>\n",
       "      <td>236.110001</td>\n",
       "      <td>249.470001</td>\n",
       "      <td>249.470001</td>\n",
       "      <td>16906900.0</td>\n",
       "    </tr>\n",
       "  </tbody>\n",
       "</table>\n",
       "</div>"
      ],
      "text/plain": [
       "                  Open        High         Low       Close   Adj Close  \\\n",
       "Date                                                                     \n",
       "2018-02-05  262.000000  267.899994  250.029999  254.259995  254.259995   \n",
       "2018-02-06  247.699997  266.700012  245.000000  265.720001  265.720001   \n",
       "2018-02-07  266.579987  272.450012  264.329987  264.559998  264.559998   \n",
       "2018-02-08  267.079987  267.619995  250.000000  250.100006  250.100006   \n",
       "2018-02-09  253.850006  255.800003  236.110001  249.470001  249.470001   \n",
       "\n",
       "                Volume  \n",
       "Date                    \n",
       "2018-02-05  11896100.0  \n",
       "2018-02-06  12595800.0  \n",
       "2018-02-07   8981500.0  \n",
       "2018-02-08   9306700.0  \n",
       "2018-02-09  16906900.0  "
      ]
     },
     "execution_count": 13,
     "metadata": {},
     "output_type": "execute_result"
    }
   ],
   "source": [
    "df=pd.read_excel('1613615-Stock_Price_data_set.xlsx',index_col='Date')\n",
    "df.head()"
   ]
  },
  {
   "cell_type": "code",
   "execution_count": 14,
   "id": "82456953",
   "metadata": {},
   "outputs": [
    {
     "data": {
      "text/plain": [
       "(1009, 6)"
      ]
     },
     "execution_count": 14,
     "metadata": {},
     "output_type": "execute_result"
    }
   ],
   "source": [
    "#Get number of rows and columns in data set\n",
    "df.shape"
   ]
  },
  {
   "cell_type": "code",
   "execution_count": 15,
   "id": "7ce81b3e",
   "metadata": {},
   "outputs": [
    {
     "data": {
      "image/png": "[encoded data removed]",
      "text/plain": [
       "<Figure size 1152x576 with 1 Axes>"
      ]
     },
     "metadata": {},
     "output_type": "display_data"
    }
   ],
   "source": [
    "#visualization of the closing histry\n",
    "plt.figure(figsize=(16,8))\n",
    "plt.title('Close price history')\n",
    "plt.plot(df['Close'])\n",
    "plt.xlabel('date',fontsize=18)\n",
    "plt.ylabel('close price ')\n",
    "plt.show()"
   ]
  },
  {
   "cell_type": "code",
   "execution_count": 16,
   "id": "e4fc5648",
   "metadata": {},
   "outputs": [
    {
     "data": {
      "text/plain": [
       "808"
      ]
     },
     "execution_count": 16,
     "metadata": {},
     "output_type": "execute_result"
    }
   ],
   "source": [
    "#create a new dataframe with only the close column\n",
    "data=df.filter(['Close'])\n",
    "#convert the dataframe into numpy arry\n",
    "dataset=data.values\n",
    "#get the number of rows to train the model\n",
    "training_data_len=math.ceil(len(dataset)*0.8)\n",
    "training_data_len\n",
    "training_data_len"
   ]
  },
  {
   "cell_type": "code",
   "execution_count": 17,
   "id": "fb48f80f",
   "metadata": {},
   "outputs": [
    {
     "data": {
      "text/plain": [
       "array([[0.04451626],\n",
       "       [0.06954849],\n",
       "       [0.06701469],\n",
       "       ...,\n",
       "       [0.4272515 ],\n",
       "       [0.37509011],\n",
       "       [0.38507243]])"
      ]
     },
     "execution_count": 17,
     "metadata": {},
     "output_type": "execute_result"
    }
   ],
   "source": [
    "#scale the data\n",
    "scaler=MinMaxScaler(feature_range=(0,1))\n",
    "scaled_data=scaler.fit_transform(dataset)\n",
    "scaled_data"
   ]
  },
  {
   "cell_type": "code",
   "execution_count": 18,
   "id": "9306f245",
   "metadata": {},
   "outputs": [
    {
     "name": "stdout",
     "output_type": "stream",
     "text": [
      "[array([0.04451626, 0.06954849, 0.06701469, 0.03542955, 0.03405342,\n",
      "       0.05257641, 0.05327534, 0.0701601 , 0.10133021, 0.09750767,\n",
      "       0.09757319, 0.10301218, 0.09667768, 0.11369343, 0.13167034,\n",
      "       0.12391599, 0.12559796, 0.12343551, 0.14672022, 0.1771914 ,\n",
      "       0.19951508, 0.19064677, 0.18156003, 0.2131015 , 0.19095254,\n",
      "       0.17911361, 0.19149862, 0.19049385, 0.18472731, 0.17387127,\n",
      "       0.18265218, 0.18042421, 0.15906164, 0.14647998, 0.18887749,\n",
      "       0.1459339 , 0.11334393, 0.13426968, 0.10137394, 0.10875693,\n",
      "       0.12026823, 0.13125532, 0.12007165, 0.12243068, 0.14021101,\n",
      "       0.15244317, 0.16463161, 0.16987394, 0.16142066, 0.22319301,\n",
      "       0.21982915, 0.21585376, 0.20508505, 0.18525152, 0.15976057,\n",
      "       0.15700838, 0.17496343, 0.17011425, 0.17164323, 0.17347804])]\n",
      "[0.17360909661393864]\n",
      "\n",
      "[array([0.04451626, 0.06954849, 0.06701469, 0.03542955, 0.03405342,\n",
      "       0.05257641, 0.05327534, 0.0701601 , 0.10133021, 0.09750767,\n",
      "       0.09757319, 0.10301218, 0.09667768, 0.11369343, 0.13167034,\n",
      "       0.12391599, 0.12559796, 0.12343551, 0.14672022, 0.1771914 ,\n",
      "       0.19951508, 0.19064677, 0.18156003, 0.2131015 , 0.19095254,\n",
      "       0.17911361, 0.19149862, 0.19049385, 0.18472731, 0.17387127,\n",
      "       0.18265218, 0.18042421, 0.15906164, 0.14647998, 0.18887749,\n",
      "       0.1459339 , 0.11334393, 0.13426968, 0.10137394, 0.10875693,\n",
      "       0.12026823, 0.13125532, 0.12007165, 0.12243068, 0.14021101,\n",
      "       0.15244317, 0.16463161, 0.16987394, 0.16142066, 0.22319301,\n",
      "       0.21982915, 0.21585376, 0.20508505, 0.18525152, 0.15976057,\n",
      "       0.15700838, 0.17496343, 0.17011425, 0.17164323, 0.17347804]), array([0.06954849, 0.06701469, 0.03542955, 0.03405342, 0.05257641,\n",
      "       0.05327534, 0.0701601 , 0.10133021, 0.09750767, 0.09757319,\n",
      "       0.10301218, 0.09667768, 0.11369343, 0.13167034, 0.12391599,\n",
      "       0.12559796, 0.12343551, 0.14672022, 0.1771914 , 0.19951508,\n",
      "       0.19064677, 0.18156003, 0.2131015 , 0.19095254, 0.17911361,\n",
      "       0.19149862, 0.19049385, 0.18472731, 0.17387127, 0.18265218,\n",
      "       0.18042421, 0.15906164, 0.14647998, 0.18887749, 0.1459339 ,\n",
      "       0.11334393, 0.13426968, 0.10137394, 0.10875693, 0.12026823,\n",
      "       0.13125532, 0.12007165, 0.12243068, 0.14021101, 0.15244317,\n",
      "       0.16463161, 0.16987394, 0.16142066, 0.22319301, 0.21982915,\n",
      "       0.21585376, 0.20508505, 0.18525152, 0.15976057, 0.15700838,\n",
      "       0.17496343, 0.17011425, 0.17164323, 0.17347804, 0.1736091 ])]\n",
      "[0.17360909661393864, 0.16996133223364263]\n",
      "\n"
     ]
    }
   ],
   "source": [
    "#create the training data set\n",
    "#create the scaled training data set\n",
    "train_data=scaled_data[0:training_data_len,:]\n",
    "#split the data into x_train and y_train data sets\n",
    "x_train=[]\n",
    "y_train=[]\n",
    "\n",
    "for i in range (60,len(train_data)):\n",
    "    x_train.append(train_data[i-60:i,0])\n",
    "    y_train.append(train_data[i,0])\n",
    "    if i<=61:\n",
    "        print(x_train)\n",
    "        print(y_train)\n",
    "        print()"
   ]
  },
  {
   "cell_type": "code",
   "execution_count": 19,
   "id": "a7f81f68",
   "metadata": {},
   "outputs": [],
   "source": [
    "#convert the x_train and y_train to numpy arrays\n",
    "x_train,y_train=np.array(x_train),np.array(y_train)"
   ]
  },
  {
   "cell_type": "code",
   "execution_count": 20,
   "id": "442082f7",
   "metadata": {},
   "outputs": [
    {
     "data": {
      "text/plain": [
       "(748, 60, 1)"
      ]
     },
     "execution_count": 20,
     "metadata": {},
     "output_type": "execute_result"
    }
   ],
   "source": [
    "#reshape the data\n",
    "x_train=np.reshape(x_train,(x_train.shape[0],x_train.shape[1],1))\n",
    "x_train.shape"
   ]
  },
  {
   "cell_type": "code",
   "execution_count": 21,
   "id": "d6a7f601",
   "metadata": {},
   "outputs": [],
   "source": [
    "#build the LSTM model\n",
    "model=Sequential()\n",
    "model.add(LSTM(50,return_sequences=True,input_shape=(x_train.shape[1],1)))\n",
    "model.add(LSTM(50,return_sequences=False))\n",
    "model.add(Dense(25))\n",
    "model.add(Dense(1))"
   ]
  },
  {
   "cell_type": "code",
   "execution_count": 22,
   "id": "6806c309",
   "metadata": {},
   "outputs": [],
   "source": [
    "#compile the model\n",
    "model.compile(optimizer='adam',loss='mean_squared_error')"
   ]
  },
  {
   "cell_type": "code",
   "execution_count": 23,
   "id": "8d7dc85c",
   "metadata": {},
   "outputs": [
    {
     "name": "stdout",
     "output_type": "stream",
     "text": [
      "748/748 [==============================] - 20s 22ms/step - loss: 0.0036\n"
     ]
    },
    {
     "data": {
      "text/plain": [
       "<keras.callbacks.History at 0x20588ad4be0>"
      ]
     },
     "execution_count": 23,
     "metadata": {},
     "output_type": "execute_result"
    }
   ],
   "source": [
    "#train the model\n",
    "model.fit(x_train,y_train,batch_size=1,epochs=1)"
   ]
  },
  {
   "cell_type": "code",
   "execution_count": 24,
   "id": "77e4d124",
   "metadata": {},
   "outputs": [],
   "source": [
    "#create the testiong data set\n",
    "#create the new arry containing scaled values from index \n",
    "test_data=scaled_data[training_data_len-60:,:]\n",
    "#create the data set x_test and y_test\n",
    "x_test=[]\n",
    "y_test=dataset[training_data_len:, :]\n",
    "for i in range (60,len(test_data)):\n",
    "    x_test.append(test_data[i-60:i,0])"
   ]
  },
  {
   "cell_type": "code",
   "execution_count": 25,
   "id": "e1ce8894",
   "metadata": {},
   "outputs": [],
   "source": [
    "#convert data into numpy\n",
    "x_test=np.array(x_test)"
   ]
  },
  {
   "cell_type": "code",
   "execution_count": 26,
   "id": "44701a1d",
   "metadata": {},
   "outputs": [],
   "source": [
    "#reshape the data\n",
    "x_test=np.reshape(x_test,(x_test.shape[0],x_test.shape[1],1))"
   ]
  },
  {
   "cell_type": "code",
   "execution_count": 27,
   "id": "f6cd6217",
   "metadata": {},
   "outputs": [
    {
     "name": "stdout",
     "output_type": "stream",
     "text": [
      "7/7 [==============================] - 1s 12ms/step\n"
     ]
    },
    {
     "data": {
      "text/plain": [
       "array([[517.51886],\n",
       "       [512.35596],\n",
       "       [506.6081 ],\n",
       "       [501.60458],\n",
       "       [496.97784],\n",
       "       [493.12048],\n",
       "       [490.26828],\n",
       "       [488.6295 ],\n",
       "       [487.32248],\n",
       "       [485.76297],\n",
       "       [483.5707 ],\n",
       "       [481.64523],\n",
       "       [480.4405 ],\n",
       "       [478.03552],\n",
       "       [476.16177],\n",
       "       [473.7155 ],\n",
       "       [471.4342 ],\n",
       "       [470.0996 ],\n",
       "       [468.9168 ],\n",
       "       [467.69504],\n",
       "       [466.7236 ],\n",
       "       [467.32028],\n",
       "       [468.22403],\n",
       "       [469.7049 ],\n",
       "       [471.158  ],\n",
       "       [472.56223],\n",
       "       [473.94318],\n",
       "       [475.06674],\n",
       "       [475.59192],\n",
       "       [475.79465],\n",
       "       [474.85922],\n",
       "       [474.0004 ],\n",
       "       [473.22614],\n",
       "       [472.35205],\n",
       "       [470.88687],\n",
       "       [469.4378 ],\n",
       "       [468.2742 ],\n",
       "       [468.4396 ],\n",
       "       [468.43802],\n",
       "       [468.4444 ],\n",
       "       [469.02454],\n",
       "       [470.04608],\n",
       "       [470.8163 ],\n",
       "       [472.5494 ],\n",
       "       [474.92276],\n",
       "       [477.88876],\n",
       "       [481.71466],\n",
       "       [486.13474],\n",
       "       [490.4354 ],\n",
       "       [493.73206],\n",
       "       [496.74197],\n",
       "       [499.31836],\n",
       "       [502.16562],\n",
       "       [504.268  ],\n",
       "       [505.31177],\n",
       "       [506.25412],\n",
       "       [507.148  ],\n",
       "       [508.2508 ],\n",
       "       [510.04126],\n",
       "       [511.47058],\n",
       "       [511.37213],\n",
       "       [510.7778 ],\n",
       "       [509.85352],\n",
       "       [507.15958],\n",
       "       [503.75696],\n",
       "       [500.68854],\n",
       "       [498.17365],\n",
       "       [496.4184 ],\n",
       "       [495.2477 ],\n",
       "       [493.997  ],\n",
       "       [493.18195],\n",
       "       [492.4131 ],\n",
       "       [491.3369 ],\n",
       "       [490.87018],\n",
       "       [491.45642],\n",
       "       [492.05795],\n",
       "       [492.5792 ],\n",
       "       [492.60883],\n",
       "       [492.0738 ],\n",
       "       [491.15884],\n",
       "       [490.6551 ],\n",
       "       [490.57504],\n",
       "       [490.8054 ],\n",
       "       [491.45508],\n",
       "       [494.36752],\n",
       "       [498.32996],\n",
       "       [503.05164],\n",
       "       [507.66116],\n",
       "       [511.18564],\n",
       "       [514.094  ],\n",
       "       [517.24493],\n",
       "       [520.86194],\n",
       "       [524.60596],\n",
       "       [529.2883 ],\n",
       "       [534.5304 ],\n",
       "       [539.6851 ],\n",
       "       [545.8595 ],\n",
       "       [551.75   ],\n",
       "       [556.0765 ],\n",
       "       [559.3601 ],\n",
       "       [560.85034],\n",
       "       [560.22504],\n",
       "       [559.18195],\n",
       "       [558.34686],\n",
       "       [557.9545 ],\n",
       "       [556.43695],\n",
       "       [554.38226],\n",
       "       [553.9935 ],\n",
       "       [554.61206],\n",
       "       [555.5785 ],\n",
       "       [556.65735],\n",
       "       [556.81915],\n",
       "       [558.0637 ],\n",
       "       [560.7251 ],\n",
       "       [564.0316 ],\n",
       "       [566.3498 ],\n",
       "       [571.1143 ],\n",
       "       [576.80786],\n",
       "       [581.6537 ],\n",
       "       [585.7261 ],\n",
       "       [588.4379 ],\n",
       "       [590.0343 ],\n",
       "       [591.4018 ],\n",
       "       [592.8754 ],\n",
       "       [593.68024],\n",
       "       [595.071  ],\n",
       "       [596.63556],\n",
       "       [596.75916],\n",
       "       [599.02704],\n",
       "       [603.04596],\n",
       "       [608.12274],\n",
       "       [612.84894],\n",
       "       [616.3988 ],\n",
       "       [620.148  ],\n",
       "       [625.11725],\n",
       "       [629.14496],\n",
       "       [632.04535],\n",
       "       [635.16156],\n",
       "       [636.01184],\n",
       "       [633.6079 ],\n",
       "       [630.5926 ],\n",
       "       [627.95935],\n",
       "       [624.8482 ],\n",
       "       [622.94635],\n",
       "       [624.2057 ],\n",
       "       [626.3717 ],\n",
       "       [629.6048 ],\n",
       "       [633.3893 ],\n",
       "       [636.0742 ],\n",
       "       [637.7143 ],\n",
       "       [636.76685],\n",
       "       [634.30316],\n",
       "       [631.78735],\n",
       "       [630.18005],\n",
       "       [628.94556],\n",
       "       [625.8833 ],\n",
       "       [620.042  ],\n",
       "       [613.4722 ],\n",
       "       [605.7785 ],\n",
       "       [599.4422 ],\n",
       "       [595.5886 ],\n",
       "       [593.5086 ],\n",
       "       [590.83105],\n",
       "       [588.32825],\n",
       "       [585.4511 ],\n",
       "       [582.08185],\n",
       "       [579.5425 ],\n",
       "       [576.23846],\n",
       "       [572.56445],\n",
       "       [569.78625],\n",
       "       [568.7784 ],\n",
       "       [569.5965 ],\n",
       "       [571.17004],\n",
       "       [572.87537],\n",
       "       [574.246  ],\n",
       "       [575.3118 ],\n",
       "       [576.2699 ],\n",
       "       [576.1146 ],\n",
       "       [574.992  ],\n",
       "       [572.9189 ],\n",
       "       [568.296  ],\n",
       "       [561.6286 ],\n",
       "       [553.48474],\n",
       "       [545.35803],\n",
       "       [538.1361 ],\n",
       "       [531.71906],\n",
       "       [524.604  ],\n",
       "       [518.58386],\n",
       "       [512.2086 ],\n",
       "       [506.86502],\n",
       "       [501.7926 ],\n",
       "       [486.67215],\n",
       "       [467.55396],\n",
       "       [446.26456],\n",
       "       [425.34528],\n",
       "       [409.1702 ],\n",
       "       [396.6698 ],\n",
       "       [391.31372],\n",
       "       [392.89117],\n",
       "       [395.2105 ],\n",
       "       [395.52576]], dtype=float32)"
      ]
     },
     "execution_count": 27,
     "metadata": {},
     "output_type": "execute_result"
    }
   ],
   "source": [
    "#get the model predicted values\n",
    "predictions=model.predict(x_test)\n",
    "predictions=scaler.inverse_transform(predictions)\n",
    "predictions"
   ]
  },
  {
   "cell_type": "code",
   "execution_count": 28,
   "id": "dce3f7e1",
   "metadata": {},
   "outputs": [
    {
     "data": {
      "text/plain": [
       "25.984746698888372"
      ]
     },
     "execution_count": 28,
     "metadata": {},
     "output_type": "execute_result"
    }
   ],
   "source": [
    "# get the root mean squared error(RMSE)\n",
    "rmse=np.sqrt(np.mean(predictions-y_test)**2)\n",
    "rmse"
   ]
  },
  {
   "cell_type": "code",
   "execution_count": 29,
   "id": "3283f094",
   "metadata": {},
   "outputs": [
    {
     "name": "stderr",
     "output_type": "stream",
     "text": [
      "C:\\Users\\patid\\AppData\\Local\\Temp\\ipykernel_26688\\2617299793.py:4: SettingWithCopyWarning: \n",
      "A value is trying to be set on a copy of a slice from a DataFrame.\n",
      "Try using .loc[row_indexer,col_indexer] = value instead\n",
      "\n",
      "See the caveats in the documentation: https://pandas.pydata.org/pandas-docs/stable/user_guide/indexing.html#returning-a-view-versus-a-copy\n",
      "  valid['predictions']=predictions\n"
     ]
    },
    {
     "data": {
      "image/png": "[encoded data removed]",
      "text/plain": [
       "<Figure size 1152x576 with 1 Axes>"
      ]
     },
     "metadata": {},
     "output_type": "display_data"
    }
   ],
   "source": [
    "#plot the data\n",
    "train=data[:training_data_len]\n",
    "valid=data[training_data_len:]\n",
    "valid['predictions']=predictions\n",
    "#visualization of data\n",
    "plt.figure(figsize=(16,8))\n",
    "plt.title('Model')\n",
    "plt.xlabel('date',fontsize=18)\n",
    "plt.ylabel('close price',fontsize=18)\n",
    "plt.plot(train['Close'])\n",
    "plt.plot(valid[['Close','predictions']])\n",
    "plt.legend(['train','val','prediction'],loc='lower right')\n",
    "plt.show()"
   ]
  },
  {
   "cell_type": "code",
   "execution_count": 30,
   "id": "efdcd949",
   "metadata": {},
   "outputs": [
    {
     "data": {
      "text/html": [
       "<div>\n",
       "<style scoped>\n",
       "    .dataframe tbody tr th:only-of-type {\n",
       "        vertical-align: middle;\n",
       "    }\n",
       "\n",
       "    .dataframe tbody tr th {\n",
       "        vertical-align: top;\n",
       "    }\n",
       "\n",
       "    .dataframe thead th {\n",
       "        text-align: right;\n",
       "    }\n",
       "</style>\n",
       "<table border=\"1\" class=\"dataframe\">\n",
       "  <thead>\n",
       "    <tr style=\"text-align: right;\">\n",
       "      <th></th>\n",
       "      <th>Close</th>\n",
       "      <th>predictions</th>\n",
       "    </tr>\n",
       "    <tr>\n",
       "      <th>Date</th>\n",
       "      <th></th>\n",
       "      <th></th>\n",
       "    </tr>\n",
       "  </thead>\n",
       "  <tbody>\n",
       "    <tr>\n",
       "      <th>2021-04-22</th>\n",
       "      <td>508.779999</td>\n",
       "      <td>517.518860</td>\n",
       "    </tr>\n",
       "    <tr>\n",
       "      <th>2021-04-23</th>\n",
       "      <td>505.549988</td>\n",
       "      <td>512.355957</td>\n",
       "    </tr>\n",
       "    <tr>\n",
       "      <th>2021-04-26</th>\n",
       "      <td>510.299988</td>\n",
       "      <td>506.608093</td>\n",
       "    </tr>\n",
       "    <tr>\n",
       "      <th>2021-04-27</th>\n",
       "      <td>505.549988</td>\n",
       "      <td>501.604584</td>\n",
       "    </tr>\n",
       "    <tr>\n",
       "      <th>2021-04-28</th>\n",
       "      <td>506.519989</td>\n",
       "      <td>496.977844</td>\n",
       "    </tr>\n",
       "    <tr>\n",
       "      <th>...</th>\n",
       "      <td>...</td>\n",
       "      <td>...</td>\n",
       "    </tr>\n",
       "    <tr>\n",
       "      <th>2022-01-31</th>\n",
       "      <td>427.140015</td>\n",
       "      <td>396.669800</td>\n",
       "    </tr>\n",
       "    <tr>\n",
       "      <th>2022-02-01</th>\n",
       "      <td>457.130005</td>\n",
       "      <td>391.313721</td>\n",
       "    </tr>\n",
       "    <tr>\n",
       "      <th>2022-02-02</th>\n",
       "      <td>429.480011</td>\n",
       "      <td>392.891174</td>\n",
       "    </tr>\n",
       "    <tr>\n",
       "      <th>2022-02-03</th>\n",
       "      <td>405.600006</td>\n",
       "      <td>395.210510</td>\n",
       "    </tr>\n",
       "    <tr>\n",
       "      <th>2022-02-04</th>\n",
       "      <td>410.170013</td>\n",
       "      <td>395.525757</td>\n",
       "    </tr>\n",
       "  </tbody>\n",
       "</table>\n",
       "<p>201 rows × 2 columns</p>\n",
       "</div>"
      ],
      "text/plain": [
       "                 Close  predictions\n",
       "Date                               \n",
       "2021-04-22  508.779999   517.518860\n",
       "2021-04-23  505.549988   512.355957\n",
       "2021-04-26  510.299988   506.608093\n",
       "2021-04-27  505.549988   501.604584\n",
       "2021-04-28  506.519989   496.977844\n",
       "...                ...          ...\n",
       "2022-01-31  427.140015   396.669800\n",
       "2022-02-01  457.130005   391.313721\n",
       "2022-02-02  429.480011   392.891174\n",
       "2022-02-03  405.600006   395.210510\n",
       "2022-02-04  410.170013   395.525757\n",
       "\n",
       "[201 rows x 2 columns]"
      ]
     },
     "execution_count": 30,
     "metadata": {},
     "output_type": "execute_result"
    }
   ],
   "source": [
    "# show the valid and actual prices\n",
    "valid"
   ]
  },
  {
   "cell_type": "code",
   "execution_count": null,
   "id": "bff920fa",
   "metadata": {},
   "outputs": [],
   "source": []
  }
 ],
 "metadata": {
  "kernelspec": {
   "display_name": "Python 3 (ipykernel)",
   "language": "python",
   "name": "python3"
  },
  "language_info": {
   "codemirror_mode": {
    "name": "ipython",
    "version": 3
   },
   "file_extension": ".py",
   "mimetype": "text/x-python",
   "name": "python",
   "nbconvert_exporter": "python",
   "pygments_lexer": "ipython3",
   "version": "3.9.12"
  }
 },
 "nbformat": 4,
 "nbformat_minor": 5
}
